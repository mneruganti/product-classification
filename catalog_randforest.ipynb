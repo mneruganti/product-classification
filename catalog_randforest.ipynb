{
 "cells": [
  {
   "cell_type": "code",
   "execution_count": 1,
   "metadata": {},
   "outputs": [],
   "source": [
    "import pandas as pd\n",
    "import random\n"
   ]
  },
  {
   "cell_type": "code",
   "execution_count": 2,
   "metadata": {},
   "outputs": [],
   "source": [
    "# Define some example categories and sample titles\n",
    "categories = {\n",
    "    100: [\"iPhone 13\", \"iPhone 14\", \"iPhone case\", \"Apple phone\"],\n",
    "    200: [\"USB-C Charger\", \"Wireless Charger\", \"Laptop charger\"],\n",
    "    300: [\"MacBook Pro\", \"Dell XPS\", \"HP Laptop\"],\n",
    "    400: [\"Apple Watch\", \"Smartwatch\", \"Fitness tracker\"],\n",
    "    500: [\"Phone Case\", \"Samsung case\", \"Android cover\"]\n",
    "}\n",
    "\n",
    "# Generate synthetic data\n",
    "data = {\"title\": [], \"category_id\": []}\n",
    "\n",
    "for cat_id, titles in categories.items():\n",
    "    for _ in range(100):  # 100 examples per category\n",
    "        phrase = random.choice(titles) + \" \" + random.choice([\"\", \"Pro\", \"Plus\", \"2023\", \"Gen 3\"])\n",
    "        data[\"title\"].append(phrase)\n",
    "        data[\"category_id\"].append(cat_id)\n",
    "\n",
    "df = pd.DataFrame(data)"
   ]
  },
  {
   "cell_type": "code",
   "execution_count": 3,
   "metadata": {},
   "outputs": [],
   "source": [
    "from sklearn.model_selection import train_test_split\n",
    "\n",
    "X_train, X_test, y_train, y_test = train_test_split(df['title'], df['category_id'], test_size=0.2, random_state=42)\n"
   ]
  },
  {
   "cell_type": "code",
   "execution_count": null,
   "metadata": {},
   "outputs": [],
   "source": [
    "from sklearn.feature_extraction.text import TfidfVectorizer\n",
    "from sklearn.ensemble import RandomForestClassifier\n",
    "from sklearn.metrics import accuracy_score, classification_report\n",
    "\n",
    "# Vectorize product titles\n",
    "vectorizer = TfidfVectorizer()\n",
    "X_train_vec = vectorizer.fit_transform(X_train)\n",
    "X_test_vec = vectorizer.transform(X_test)\n",
    "\n",
    "# Train Random Forest\n",
    "rf = RandomForestClassifier(n_estimators=100, random_state=42)\n",
    "rf.fit(X_train_vec, y_train)\n",
    "\n",
    "# Predict\n",
    "y_pred = rf.predict(X_test_vec)\n"
   ]
  },
  {
   "cell_type": "code",
   "execution_count": 9,
   "metadata": {},
   "outputs": [
    {
     "name": "stdout",
     "output_type": "stream",
     "text": [
      "Accuracy: 1.0\n",
      "\n",
      "Classification Report:\n",
      "              precision    recall  f1-score   support\n",
      "\n",
      "         100       1.00      1.00      1.00        28\n",
      "         200       1.00      1.00      1.00        14\n",
      "         300       1.00      1.00      1.00        10\n",
      "         400       1.00      1.00      1.00        24\n",
      "         500       1.00      1.00      1.00        24\n",
      "\n",
      "    accuracy                           1.00       100\n",
      "   macro avg       1.00      1.00      1.00       100\n",
      "weighted avg       1.00      1.00      1.00       100\n",
      "\n"
     ]
    }
   ],
   "source": [
    "print(\"Accuracy:\", accuracy_score(y_test, y_pred))\n",
    "print(\"\\nClassification Report:\")\n",
    "print(classification_report(y_test, y_pred))\n"
   ]
  },
  {
   "cell_type": "code",
   "execution_count": 10,
   "metadata": {},
   "outputs": [
    {
     "name": "stdout",
     "output_type": "stream",
     "text": [
      "100\n",
      "200\n",
      "300\n"
     ]
    }
   ],
   "source": [
    "def predict_category(title):\n",
    "    vec = vectorizer.transform([title])\n",
    "    pred = rf.predict(vec)[0]\n",
    "    return pred\n",
    "\n",
    "print(predict_category(\"iPhone 14 Pro\"))         # → 100\n",
    "print(predict_category(\"Fast USB-C Charger\"))    # → 200\n",
    "print(predict_category(\"Dell Laptop\"))           # → 300\n"
   ]
  }
 ],
 "metadata": {
  "kernelspec": {
   "display_name": "venv",
   "language": "python",
   "name": "python3"
  },
  "language_info": {
   "codemirror_mode": {
    "name": "ipython",
    "version": 3
   },
   "file_extension": ".py",
   "mimetype": "text/x-python",
   "name": "python",
   "nbconvert_exporter": "python",
   "pygments_lexer": "ipython3",
   "version": "3.12.4"
  }
 },
 "nbformat": 4,
 "nbformat_minor": 2
}
