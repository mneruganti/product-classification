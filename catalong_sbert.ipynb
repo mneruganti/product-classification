{
 "cells": [
  {
   "cell_type": "code",
   "execution_count": 5,
   "metadata": {},
   "outputs": [
    {
     "name": "stderr",
     "output_type": "stream",
     "text": [
      "/Users/Manasa/Machine-Learning/venv/lib/python3.12/site-packages/tqdm/auto.py:21: TqdmWarning: IProgress not found. Please update jupyter and ipywidgets. See https://ipywidgets.readthedocs.io/en/stable/user_install.html\n",
      "  from .autonotebook import tqdm as notebook_tqdm\n"
     ]
    }
   ],
   "source": [
    "# Step 1: Imports\n",
    "import pandas as pd\n",
    "import random\n",
    "from sklearn.model_selection import train_test_split\n",
    "from sklearn.ensemble import RandomForestClassifier\n",
    "from sklearn.metrics import accuracy_score, classification_report\n",
    "from sentence_transformers import SentenceTransformer\n"
   ]
  },
  {
   "cell_type": "code",
   "execution_count": 6,
   "metadata": {},
   "outputs": [],
   "source": [
    "# Example product titles by category\n",
    "categories = {\n",
    "    100: [\"iPhone 13\", \"iPhone 14\", \"iPhone case\", \"Apple phone\"],\n",
    "    200: [\"USB-C Charger\", \"Wireless Charger\", \"Laptop charger\"],\n",
    "    300: [\"MacBook Pro\", \"Dell XPS\", \"HP Laptop\"],\n",
    "    400: [\"Apple Watch\", \"Smartwatch\", \"Fitness tracker\"],\n",
    "    500: [\"Phone Case\", \"Samsung case\", \"Android cover\"]\n",
    "}\n",
    "\n",
    "# Generate synthetic dataset\n",
    "data = {\"title\": [], \"category_id\": []}\n",
    "for cat_id, titles in categories.items():\n",
    "    for _ in range(100):  # 100 examples per category\n",
    "        phrase = random.choice(titles) + \" \" + random.choice([\"Pro\", \"Plus\", \"2023\", \"Gen 3\", \"Max\"])\n",
    "        data[\"title\"].append(phrase)\n",
    "        data[\"category_id\"].append(cat_id)\n",
    "\n",
    "df = pd.DataFrame(data)\n"
   ]
  },
  {
   "cell_type": "code",
   "execution_count": 7,
   "metadata": {},
   "outputs": [
    {
     "name": "stderr",
     "output_type": "stream",
     "text": [
      "Xet Storage is enabled for this repo, but the 'hf_xet' package is not installed. Falling back to regular HTTP download. For better performance, install the package with: `pip install huggingface_hub[hf_xet]` or `pip install hf_xet`\n"
     ]
    }
   ],
   "source": [
    "# Load SBERT model\n",
    "sbert = SentenceTransformer('all-MiniLM-L6-v2')\n",
    "\n",
    "# Train-test split\n",
    "X_train, X_test, y_train, y_test = train_test_split(df['title'], df['category_id'], test_size=0.2, random_state=42)\n",
    "\n",
    "# Encode with SBERT\n",
    "X_train_emb = sbert.encode(X_train.tolist(), convert_to_numpy=True)\n",
    "X_test_emb = sbert.encode(X_test.tolist(), convert_to_numpy=True)\n"
   ]
  },
  {
   "cell_type": "code",
   "execution_count": 12,
   "metadata": {},
   "outputs": [
    {
     "data": {
      "text/plain": [
       "['rf_model.pkl']"
      ]
     },
     "execution_count": 12,
     "metadata": {},
     "output_type": "execute_result"
    }
   ],
   "source": [
    "# Train classifier on SBERT embeddings\n",
    "clf = RandomForestClassifier(n_estimators=100, random_state=42)\n",
    "clf.fit(X_train_emb, y_train)\n",
    "import joblib\n",
    "\n",
    "# Save classifier\n",
    "joblib.dump(clf, \"rf_model.pkl\")\n"
   ]
  },
  {
   "cell_type": "code",
   "execution_count": 13,
   "metadata": {},
   "outputs": [
    {
     "name": "stdout",
     "output_type": "stream",
     "text": [
      "Accuracy: 1.0\n",
      "\n",
      "Classification Report:\n",
      "              precision    recall  f1-score   support\n",
      "\n",
      "         100       1.00      1.00      1.00        28\n",
      "         200       1.00      1.00      1.00        14\n",
      "         300       1.00      1.00      1.00        10\n",
      "         400       1.00      1.00      1.00        24\n",
      "         500       1.00      1.00      1.00        24\n",
      "\n",
      "    accuracy                           1.00       100\n",
      "   macro avg       1.00      1.00      1.00       100\n",
      "weighted avg       1.00      1.00      1.00       100\n",
      "\n"
     ]
    }
   ],
   "source": [
    "# Predict on test set\n",
    "y_pred = clf.predict(X_test_emb)\n",
    "\n",
    "# Evaluation\n",
    "print(\"Accuracy:\", accuracy_score(y_test, y_pred))\n",
    "print(\"\\nClassification Report:\")\n",
    "print(classification_report(y_test, y_pred))\n"
   ]
  },
  {
   "cell_type": "code",
   "execution_count": 14,
   "metadata": {},
   "outputs": [
    {
     "name": "stdout",
     "output_type": "stream",
     "text": [
      "Prediction for 'iPhone 14 Pro': 100\n",
      "Prediction for 'Fast USB-C Charger': 200\n",
      "Prediction for 'Dell Laptop Gen 3': 300\n"
     ]
    }
   ],
   "source": [
    "def predict_category(title):\n",
    "    emb = sbert.encode([title])\n",
    "    pred = clf.predict(emb)[0]\n",
    "    return pred\n",
    "\n",
    "# Example predictions\n",
    "print(\"Prediction for 'iPhone 14 Pro':\", predict_category(\"iPhone 14 Pro\"))         # → 100\n",
    "print(\"Prediction for 'Fast USB-C Charger':\", predict_category(\"Fast USB-C Charger\"))  # → 200\n",
    "print(\"Prediction for 'Dell Laptop Gen 3':\", predict_category(\"Dell Laptop Gen 3\"))    # → 300\n"
   ]
  }
 ],
 "metadata": {
  "kernelspec": {
   "display_name": "venv",
   "language": "python",
   "name": "python3"
  },
  "language_info": {
   "codemirror_mode": {
    "name": "ipython",
    "version": 3
   },
   "file_extension": ".py",
   "mimetype": "text/x-python",
   "name": "python",
   "nbconvert_exporter": "python",
   "pygments_lexer": "ipython3",
   "version": "3.12.4"
  }
 },
 "nbformat": 4,
 "nbformat_minor": 2
}
